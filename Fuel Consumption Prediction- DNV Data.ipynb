{
 "cells": [
  {
   "cell_type": "markdown",
   "id": "8f04c69a",
   "metadata": {},
   "source": [
    "# Import required libraries and Packages"
   ]
  },
  {
   "cell_type": "code",
   "execution_count": 1,
   "id": "766cbb5c",
   "metadata": {},
   "outputs": [
    {
     "name": "stdout",
     "output_type": "stream",
     "text": [
      "time: 0 ns (started: 2022-08-17 09:43:16 +05:30)\n"
     ]
    }
   ],
   "source": [
    "import numpy as np\n",
    "import pandas as pd\n",
    "import math\n",
    "import matplotlib.pyplot as plt\n",
    "from sklearn.metrics import r2_score\n",
    "\n",
    "from scipy.stats import norm\n",
    "from sklearn import linear_model\n",
    "import sklearn.metrics as metrics\n",
    "from sklearn.linear_model import LogisticRegression\n",
    "from sklearn.preprocessing import MinMaxScaler\n",
    "\n",
    "%load_ext autotime"
   ]
  },
  {
   "cell_type": "markdown",
   "id": "80e34b50",
   "metadata": {},
   "source": [
    "# Loading the Data"
   ]
  },
  {
   "cell_type": "code",
   "execution_count": 2,
   "id": "857248d1",
   "metadata": {},
   "outputs": [
    {
     "name": "stdout",
     "output_type": "stream",
     "text": [
      "time: 2.97 s (started: 2022-08-17 09:43:33 +05:30)\n"
     ]
    }
   ],
   "source": [
    "df = pd.read_csv('TRAIN_Duchessa.csv')"
   ]
  },
  {
   "cell_type": "code",
   "execution_count": 3,
   "id": "38104a7f",
   "metadata": {},
   "outputs": [
    {
     "data": {
      "text/html": [
       "<div>\n",
       "<style scoped>\n",
       "    .dataframe tbody tr th:only-of-type {\n",
       "        vertical-align: middle;\n",
       "    }\n",
       "\n",
       "    .dataframe tbody tr th {\n",
       "        vertical-align: top;\n",
       "    }\n",
       "\n",
       "    .dataframe thead th {\n",
       "        text-align: right;\n",
       "    }\n",
       "</style>\n",
       "<table border=\"1\" class=\"dataframe\">\n",
       "  <thead>\n",
       "    <tr style=\"text-align: right;\">\n",
       "      <th></th>\n",
       "      <th>vessel_name</th>\n",
       "      <th>vessel_class</th>\n",
       "      <th>datetime_utc</th>\n",
       "      <th>sog</th>\n",
       "      <th>me_power</th>\n",
       "      <th>me_rpm</th>\n",
       "      <th>heading</th>\n",
       "      <th>apparent_wind_dir_degree</th>\n",
       "      <th>me_consumption_kg_h</th>\n",
       "      <th>apparent_wind_speed_kn</th>\n",
       "      <th>mean_draft_aft_vessel</th>\n",
       "      <th>mean_draft_fore_vessel</th>\n",
       "      <th>vessel_condition</th>\n",
       "    </tr>\n",
       "  </thead>\n",
       "  <tbody>\n",
       "    <tr>\n",
       "      <th>0</th>\n",
       "      <td>STI YORKVILLE</td>\n",
       "      <td>DUCHESSA</td>\n",
       "      <td>2019-12-12 17:05:00</td>\n",
       "      <td>NaN</td>\n",
       "      <td>NaN</td>\n",
       "      <td>NaN</td>\n",
       "      <td>0.00376</td>\n",
       "      <td>NaN</td>\n",
       "      <td>NaN</td>\n",
       "      <td>NaN</td>\n",
       "      <td>NaN</td>\n",
       "      <td>NaN</td>\n",
       "      <td>Ballast</td>\n",
       "    </tr>\n",
       "    <tr>\n",
       "      <th>1</th>\n",
       "      <td>STI YORKVILLE</td>\n",
       "      <td>DUCHESSA</td>\n",
       "      <td>2019-12-24 03:45:00</td>\n",
       "      <td>NaN</td>\n",
       "      <td>NaN</td>\n",
       "      <td>NaN</td>\n",
       "      <td>54.79310</td>\n",
       "      <td>NaN</td>\n",
       "      <td>NaN</td>\n",
       "      <td>NaN</td>\n",
       "      <td>NaN</td>\n",
       "      <td>NaN</td>\n",
       "      <td>Ballast</td>\n",
       "    </tr>\n",
       "  </tbody>\n",
       "</table>\n",
       "</div>"
      ],
      "text/plain": [
       "     vessel_name vessel_class         datetime_utc  sog  me_power  me_rpm  \\\n",
       "0  STI YORKVILLE     DUCHESSA  2019-12-12 17:05:00  NaN       NaN     NaN   \n",
       "1  STI YORKVILLE     DUCHESSA  2019-12-24 03:45:00  NaN       NaN     NaN   \n",
       "\n",
       "    heading  apparent_wind_dir_degree  me_consumption_kg_h  \\\n",
       "0   0.00376                       NaN                  NaN   \n",
       "1  54.79310                       NaN                  NaN   \n",
       "\n",
       "   apparent_wind_speed_kn  mean_draft_aft_vessel  mean_draft_fore_vessel  \\\n",
       "0                     NaN                    NaN                     NaN   \n",
       "1                     NaN                    NaN                     NaN   \n",
       "\n",
       "  vessel_condition  \n",
       "0          Ballast  \n",
       "1          Ballast  "
      ]
     },
     "execution_count": 3,
     "metadata": {},
     "output_type": "execute_result"
    },
    {
     "name": "stdout",
     "output_type": "stream",
     "text": [
      "time: 78 ms (started: 2022-08-17 09:43:36 +05:30)\n"
     ]
    }
   ],
   "source": [
    "df.head(2)"
   ]
  },
  {
   "cell_type": "code",
   "execution_count": 4,
   "id": "2dd31106",
   "metadata": {},
   "outputs": [
    {
     "name": "stdout",
     "output_type": "stream",
     "text": [
      "time: 0 ns (started: 2022-08-17 09:43:40 +05:30)\n"
     ]
    }
   ],
   "source": [
    "# df.iloc[100:101, :]"
   ]
  },
  {
   "cell_type": "code",
   "execution_count": 5,
   "id": "43075420",
   "metadata": {},
   "outputs": [
    {
     "data": {
      "text/plain": [
       "['vessel_name',\n",
       " 'vessel_class',\n",
       " 'datetime_utc',\n",
       " 'sog',\n",
       " 'me_power',\n",
       " 'me_rpm',\n",
       " 'heading',\n",
       " 'apparent_wind_dir_degree',\n",
       " 'me_consumption_kg_h',\n",
       " 'apparent_wind_speed_kn',\n",
       " 'mean_draft_aft_vessel',\n",
       " 'mean_draft_fore_vessel',\n",
       " 'vessel_condition']"
      ]
     },
     "execution_count": 5,
     "metadata": {},
     "output_type": "execute_result"
    },
    {
     "name": "stdout",
     "output_type": "stream",
     "text": [
      "time: 0 ns (started: 2022-08-17 09:43:40 +05:30)\n"
     ]
    }
   ],
   "source": [
    "df.columns.to_list()"
   ]
  },
  {
   "cell_type": "code",
   "execution_count": 6,
   "id": "4a1bff87",
   "metadata": {},
   "outputs": [
    {
     "data": {
      "text/plain": [
       "vessel_name                      0\n",
       "vessel_class                     0\n",
       "datetime_utc                     0\n",
       "sog                         273630\n",
       "me_power                    451169\n",
       "me_rpm                      390945\n",
       "heading                      64904\n",
       "apparent_wind_dir_degree    107469\n",
       "me_consumption_kg_h         394218\n",
       "apparent_wind_speed_kn      124436\n",
       "mean_draft_aft_vessel       866598\n",
       "mean_draft_fore_vessel      734966\n",
       "vessel_condition            136720\n",
       "dtype: int64"
      ]
     },
     "execution_count": 6,
     "metadata": {},
     "output_type": "execute_result"
    },
    {
     "name": "stdout",
     "output_type": "stream",
     "text": [
      "time: 359 ms (started: 2022-08-17 09:43:41 +05:30)\n"
     ]
    }
   ],
   "source": [
    "df.isnull().sum()"
   ]
  },
  {
   "cell_type": "code",
   "execution_count": 7,
   "id": "a9728bc3",
   "metadata": {},
   "outputs": [
    {
     "name": "stdout",
     "output_type": "stream",
     "text": [
      "time: 453 ms (started: 2022-08-17 09:43:46 +05:30)\n"
     ]
    }
   ],
   "source": [
    "df = df.dropna(thresh=13)                                # Dropping NA values"
   ]
  },
  {
   "cell_type": "code",
   "execution_count": 8,
   "id": "fe9d8296",
   "metadata": {},
   "outputs": [
    {
     "name": "stdout",
     "output_type": "stream",
     "text": [
      "time: 63 ms (started: 2022-08-17 09:43:49 +05:30)\n"
     ]
    }
   ],
   "source": [
    "df = df.loc[df['me_power'] > 0 ]                         # Applying filters for sensible values of Power"
   ]
  },
  {
   "cell_type": "code",
   "execution_count": 9,
   "id": "252cebd7",
   "metadata": {},
   "outputs": [
    {
     "name": "stdout",
     "output_type": "stream",
     "text": [
      "time: 31 ms (started: 2022-08-17 09:44:11 +05:30)\n"
     ]
    }
   ],
   "source": [
    "df = df.loc[df['me_rpm'] > 0 ]                           # Non zero and real values of RPM"
   ]
  },
  {
   "cell_type": "code",
   "execution_count": 10,
   "id": "14545859",
   "metadata": {},
   "outputs": [
    {
     "name": "stdout",
     "output_type": "stream",
     "text": [
      "time: 32 ms (started: 2022-08-17 09:44:12 +05:30)\n"
     ]
    }
   ],
   "source": [
    "df = df.loc[df['apparent_wind_dir_degree'] >= 0 ]        # Non zero and real values of wind direction          "
   ]
  },
  {
   "cell_type": "code",
   "execution_count": 11,
   "id": "cc3156d0",
   "metadata": {},
   "outputs": [
    {
     "name": "stdout",
     "output_type": "stream",
     "text": [
      "time: 46 ms (started: 2022-08-17 09:44:14 +05:30)\n"
     ]
    }
   ],
   "source": [
    "df = df.loc[df['me_consumption_kg_h'] > 0 ]              # Non zero and real values for consumptions"
   ]
  },
  {
   "cell_type": "code",
   "execution_count": 12,
   "id": "90a7f174",
   "metadata": {},
   "outputs": [
    {
     "data": {
      "text/html": [
       "<div>\n",
       "<style scoped>\n",
       "    .dataframe tbody tr th:only-of-type {\n",
       "        vertical-align: middle;\n",
       "    }\n",
       "\n",
       "    .dataframe tbody tr th {\n",
       "        vertical-align: top;\n",
       "    }\n",
       "\n",
       "    .dataframe thead th {\n",
       "        text-align: right;\n",
       "    }\n",
       "</style>\n",
       "<table border=\"1\" class=\"dataframe\">\n",
       "  <thead>\n",
       "    <tr style=\"text-align: right;\">\n",
       "      <th></th>\n",
       "      <th>sog</th>\n",
       "      <th>me_power</th>\n",
       "      <th>me_rpm</th>\n",
       "      <th>heading</th>\n",
       "      <th>apparent_wind_dir_degree</th>\n",
       "      <th>me_consumption_kg_h</th>\n",
       "      <th>apparent_wind_speed_kn</th>\n",
       "      <th>mean_draft_aft_vessel</th>\n",
       "      <th>mean_draft_fore_vessel</th>\n",
       "    </tr>\n",
       "  </thead>\n",
       "  <tbody>\n",
       "    <tr>\n",
       "      <th>count</th>\n",
       "      <td>270521.000000</td>\n",
       "      <td>270521.000000</td>\n",
       "      <td>270521.000000</td>\n",
       "      <td>270521.000000</td>\n",
       "      <td>270521.000000</td>\n",
       "      <td>270521.000000</td>\n",
       "      <td>270521.000000</td>\n",
       "      <td>270521.000000</td>\n",
       "      <td>270521.000000</td>\n",
       "    </tr>\n",
       "    <tr>\n",
       "      <th>mean</th>\n",
       "      <td>12.003881</td>\n",
       "      <td>3914.161186</td>\n",
       "      <td>70.511883</td>\n",
       "      <td>191.198155</td>\n",
       "      <td>172.499835</td>\n",
       "      <td>700.572617</td>\n",
       "      <td>23.155130</td>\n",
       "      <td>6.629425</td>\n",
       "      <td>9.550254</td>\n",
       "    </tr>\n",
       "    <tr>\n",
       "      <th>std</th>\n",
       "      <td>2.029539</td>\n",
       "      <td>1190.021040</td>\n",
       "      <td>10.234435</td>\n",
       "      <td>98.499008</td>\n",
       "      <td>130.495645</td>\n",
       "      <td>220.276846</td>\n",
       "      <td>11.612754</td>\n",
       "      <td>1.741797</td>\n",
       "      <td>2.480365</td>\n",
       "    </tr>\n",
       "    <tr>\n",
       "      <th>min</th>\n",
       "      <td>0.000000</td>\n",
       "      <td>0.000012</td>\n",
       "      <td>0.000718</td>\n",
       "      <td>0.000000</td>\n",
       "      <td>0.000000</td>\n",
       "      <td>0.000600</td>\n",
       "      <td>0.000000</td>\n",
       "      <td>3.186160</td>\n",
       "      <td>-0.700000</td>\n",
       "    </tr>\n",
       "    <tr>\n",
       "      <th>25%</th>\n",
       "      <td>11.710801</td>\n",
       "      <td>3416.240321</td>\n",
       "      <td>69.124090</td>\n",
       "      <td>112.531710</td>\n",
       "      <td>37.542764</td>\n",
       "      <td>612.905999</td>\n",
       "      <td>15.268522</td>\n",
       "      <td>4.748850</td>\n",
       "      <td>6.812940</td>\n",
       "    </tr>\n",
       "    <tr>\n",
       "      <th>50%</th>\n",
       "      <td>12.444000</td>\n",
       "      <td>3934.597544</td>\n",
       "      <td>72.472263</td>\n",
       "      <td>199.754970</td>\n",
       "      <td>152.038650</td>\n",
       "      <td>708.419399</td>\n",
       "      <td>22.853268</td>\n",
       "      <td>7.339990</td>\n",
       "      <td>10.656300</td>\n",
       "    </tr>\n",
       "    <tr>\n",
       "      <th>75%</th>\n",
       "      <td>13.000000</td>\n",
       "      <td>4387.772396</td>\n",
       "      <td>75.721737</td>\n",
       "      <td>277.691448</td>\n",
       "      <td>310.586000</td>\n",
       "      <td>778.420190</td>\n",
       "      <td>29.808933</td>\n",
       "      <td>8.130450</td>\n",
       "      <td>11.467137</td>\n",
       "    </tr>\n",
       "    <tr>\n",
       "      <th>max</th>\n",
       "      <td>17.100000</td>\n",
       "      <td>8735.205348</td>\n",
       "      <td>93.801760</td>\n",
       "      <td>359.000000</td>\n",
       "      <td>359.000000</td>\n",
       "      <td>2356.691754</td>\n",
       "      <td>49.998849</td>\n",
       "      <td>86.764630</td>\n",
       "      <td>14.260035</td>\n",
       "    </tr>\n",
       "  </tbody>\n",
       "</table>\n",
       "</div>"
      ],
      "text/plain": [
       "                 sog       me_power         me_rpm        heading  \\\n",
       "count  270521.000000  270521.000000  270521.000000  270521.000000   \n",
       "mean       12.003881    3914.161186      70.511883     191.198155   \n",
       "std         2.029539    1190.021040      10.234435      98.499008   \n",
       "min         0.000000       0.000012       0.000718       0.000000   \n",
       "25%        11.710801    3416.240321      69.124090     112.531710   \n",
       "50%        12.444000    3934.597544      72.472263     199.754970   \n",
       "75%        13.000000    4387.772396      75.721737     277.691448   \n",
       "max        17.100000    8735.205348      93.801760     359.000000   \n",
       "\n",
       "       apparent_wind_dir_degree  me_consumption_kg_h  apparent_wind_speed_kn  \\\n",
       "count             270521.000000        270521.000000           270521.000000   \n",
       "mean                 172.499835           700.572617               23.155130   \n",
       "std                  130.495645           220.276846               11.612754   \n",
       "min                    0.000000             0.000600                0.000000   \n",
       "25%                   37.542764           612.905999               15.268522   \n",
       "50%                  152.038650           708.419399               22.853268   \n",
       "75%                  310.586000           778.420190               29.808933   \n",
       "max                  359.000000          2356.691754               49.998849   \n",
       "\n",
       "       mean_draft_aft_vessel  mean_draft_fore_vessel  \n",
       "count          270521.000000           270521.000000  \n",
       "mean                6.629425                9.550254  \n",
       "std                 1.741797                2.480365  \n",
       "min                 3.186160               -0.700000  \n",
       "25%                 4.748850                6.812940  \n",
       "50%                 7.339990               10.656300  \n",
       "75%                 8.130450               11.467137  \n",
       "max                86.764630               14.260035  "
      ]
     },
     "execution_count": 12,
     "metadata": {},
     "output_type": "execute_result"
    },
    {
     "name": "stdout",
     "output_type": "stream",
     "text": [
      "time: 110 ms (started: 2022-08-17 09:45:21 +05:30)\n"
     ]
    }
   ],
   "source": [
    "df.describe()"
   ]
  },
  {
   "cell_type": "markdown",
   "id": "bbd9184c",
   "metadata": {},
   "source": [
    "# Weather Impact"
   ]
  },
  {
   "cell_type": "markdown",
   "id": "dee28edf",
   "metadata": {},
   "source": [
    "Heading Angle"
   ]
  },
  {
   "cell_type": "code",
   "execution_count": 13,
   "id": "96dc7e54",
   "metadata": {},
   "outputs": [
    {
     "name": "stdout",
     "output_type": "stream",
     "text": [
      "time: 47 ms (started: 2022-08-17 09:45:23 +05:30)\n"
     ]
    }
   ],
   "source": [
    "# Heading(degrees) to Radians\n",
    "\n",
    "df['HEADING RAD'] = df['heading'].astype(float).apply(math.radians)"
   ]
  },
  {
   "cell_type": "code",
   "execution_count": 14,
   "id": "f576e723",
   "metadata": {},
   "outputs": [
    {
     "name": "stdout",
     "output_type": "stream",
     "text": [
      "time: 78 ms (started: 2022-08-17 09:45:29 +05:30)\n"
     ]
    }
   ],
   "source": [
    "# Radians Heading to Cos elemet\n",
    "\n",
    "df['COS HEADING RAD'] = df['HEADING RAD'].astype(float).apply(math.cos)           # OUTPUT 1"
   ]
  },
  {
   "cell_type": "code",
   "execution_count": 15,
   "id": "79fd31d9",
   "metadata": {},
   "outputs": [
    {
     "name": "stdout",
     "output_type": "stream",
     "text": [
      "time: 94 ms (started: 2022-08-17 09:45:30 +05:30)\n"
     ]
    }
   ],
   "source": [
    "# Rad Heading to Sin element \n",
    "\n",
    "df['SIN HEADING RAD'] = df['HEADING RAD'].astype(float).apply(math.sin)           # OUTPUT 2"
   ]
  },
  {
   "cell_type": "markdown",
   "id": "755868ab",
   "metadata": {},
   "source": [
    "Wind Angle"
   ]
  },
  {
   "cell_type": "code",
   "execution_count": 16,
   "id": "d7d01426",
   "metadata": {},
   "outputs": [
    {
     "name": "stdout",
     "output_type": "stream",
     "text": [
      "time: 47 ms (started: 2022-08-17 09:45:37 +05:30)\n"
     ]
    }
   ],
   "source": [
    "# Wind angle(degree) to Radians\n",
    "\n",
    "df['WIND ANGLE RAD'] = df['apparent_wind_dir_degree'].astype(float).apply(math.radians)                         "
   ]
  },
  {
   "cell_type": "code",
   "execution_count": 17,
   "id": "71983335",
   "metadata": {},
   "outputs": [
    {
     "name": "stdout",
     "output_type": "stream",
     "text": [
      "time: 78 ms (started: 2022-08-17 09:45:37 +05:30)\n"
     ]
    }
   ],
   "source": [
    "# Rad Wind Angle to Cos element\n",
    "\n",
    "df['COS WIND ANGLE RAD'] = df['WIND ANGLE RAD'].astype(float).apply(math.cos)     # OUTPUT 3"
   ]
  },
  {
   "cell_type": "code",
   "execution_count": 18,
   "id": "8093a6e7",
   "metadata": {},
   "outputs": [
    {
     "name": "stdout",
     "output_type": "stream",
     "text": [
      "time: 62 ms (started: 2022-08-17 09:45:38 +05:30)\n"
     ]
    }
   ],
   "source": [
    "# Rad Wind Angle to Sin element\n",
    "\n",
    "df['SIN WIND ANGLE RAD'] = df['WIND ANGLE RAD'].astype(float).apply(math.sin)     # OUTPUT 4"
   ]
  },
  {
   "cell_type": "markdown",
   "id": "b9ae4839",
   "metadata": {},
   "source": [
    "Impact = (output 3 * output 1) + (output 4 * output 2)"
   ]
  },
  {
   "cell_type": "code",
   "execution_count": 19,
   "id": "75ff4894",
   "metadata": {},
   "outputs": [
    {
     "name": "stdout",
     "output_type": "stream",
     "text": [
      "time: 0 ns (started: 2022-08-17 09:45:39 +05:30)\n"
     ]
    }
   ],
   "source": [
    "df['IMPACT'] = (df['COS WIND ANGLE RAD'] * df['COS HEADING RAD']) + (df['SIN WIND ANGLE RAD'] * df['SIN HEADING RAD'])"
   ]
  },
  {
   "cell_type": "code",
   "execution_count": 20,
   "id": "6402f231",
   "metadata": {},
   "outputs": [
    {
     "name": "stdout",
     "output_type": "stream",
     "text": [
      "time: 0 ns (started: 2022-08-17 09:45:40 +05:30)\n"
     ]
    }
   ],
   "source": [
    "df['WEATHER IMPACT'] = df['apparent_wind_speed_kn'] * df['IMPACT']                # Final engineered parameter"
   ]
  },
  {
   "cell_type": "markdown",
   "id": "d1f5049c",
   "metadata": {},
   "source": [
    "# Draft"
   ]
  },
  {
   "cell_type": "code",
   "execution_count": 21,
   "id": "ab8291dc",
   "metadata": {},
   "outputs": [
    {
     "name": "stdout",
     "output_type": "stream",
     "text": [
      "time: 31 ms (started: 2022-08-17 09:45:43 +05:30)\n"
     ]
    }
   ],
   "source": [
    "df['DRAFT'] = df[['mean_draft_aft_vessel', 'mean_draft_fore_vessel']].mean(axis=1)"
   ]
  },
  {
   "cell_type": "code",
   "execution_count": 22,
   "id": "8d06bbd7",
   "metadata": {},
   "outputs": [
    {
     "name": "stdout",
     "output_type": "stream",
     "text": [
      "time: 78 ms (started: 2022-08-17 09:45:43 +05:30)\n"
     ]
    }
   ],
   "source": [
    "df = df.loc[df['DRAFT'] >= 4 ]                                  # Setting Limit on Draft"
   ]
  },
  {
   "cell_type": "code",
   "execution_count": 23,
   "id": "74724960",
   "metadata": {},
   "outputs": [
    {
     "name": "stdout",
     "output_type": "stream",
     "text": [
      "time: 47 ms (started: 2022-08-17 09:45:44 +05:30)\n"
     ]
    }
   ],
   "source": [
    "df = df.loc[df['DRAFT'] <= 14 ]                                 # Setting limit omn Draft"
   ]
  },
  {
   "cell_type": "markdown",
   "id": "296eb851",
   "metadata": {},
   "source": [
    "# Speed over Ground"
   ]
  },
  {
   "cell_type": "code",
   "execution_count": 24,
   "id": "aa67dee0",
   "metadata": {},
   "outputs": [
    {
     "name": "stdout",
     "output_type": "stream",
     "text": [
      "time: 15 ms (started: 2022-08-17 09:45:46 +05:30)\n"
     ]
    }
   ],
   "source": [
    "df['Cubed Speed'] = (df['sog'])**3"
   ]
  },
  {
   "cell_type": "markdown",
   "id": "3eaf0a67",
   "metadata": {},
   "source": [
    "List of the focused parameters "
   ]
  },
  {
   "cell_type": "code",
   "execution_count": 25,
   "id": "2b500d6a",
   "metadata": {},
   "outputs": [
    {
     "name": "stdout",
     "output_type": "stream",
     "text": [
      "time: 0 ns (started: 2022-08-17 09:45:50 +05:30)\n"
     ]
    }
   ],
   "source": [
    "# Parameters required:\n",
    "#     Shaft Power              YES\n",
    "#     Ship Speed               YES\n",
    "#     Weather Impact           YES\n",
    "#     RPM                      YES\n",
    "#     Draft of Vessel          YES\n",
    "#     Speed \n",
    "\n",
    "# Output:\n",
    "#     ME Consumption           YES"
   ]
  },
  {
   "cell_type": "markdown",
   "id": "1cf181ad",
   "metadata": {},
   "source": [
    "# Preparing the Main Data Set"
   ]
  },
  {
   "cell_type": "code",
   "execution_count": 26,
   "id": "3de9fe03",
   "metadata": {},
   "outputs": [
    {
     "name": "stdout",
     "output_type": "stream",
     "text": [
      "time: 47 ms (started: 2022-08-17 09:45:51 +05:30)\n"
     ]
    }
   ],
   "source": [
    "data = df[['datetime_utc', 'me_power', 'sog', 'WEATHER IMPACT', 'me_rpm', 'DRAFT', 'me_consumption_kg_h', 'Cubed Speed']]"
   ]
  },
  {
   "cell_type": "code",
   "execution_count": 27,
   "id": "6de1a90b",
   "metadata": {},
   "outputs": [
    {
     "name": "stdout",
     "output_type": "stream",
     "text": [
      "time: 0 ns (started: 2022-08-17 09:45:57 +05:30)\n"
     ]
    }
   ],
   "source": [
    "# data = data.loc[data['sog'] > 10]             # For further fine tuning"
   ]
  },
  {
   "cell_type": "code",
   "execution_count": 28,
   "id": "d03c2ba9",
   "metadata": {},
   "outputs": [
    {
     "data": {
      "text/html": [
       "<div>\n",
       "<style scoped>\n",
       "    .dataframe tbody tr th:only-of-type {\n",
       "        vertical-align: middle;\n",
       "    }\n",
       "\n",
       "    .dataframe tbody tr th {\n",
       "        vertical-align: top;\n",
       "    }\n",
       "\n",
       "    .dataframe thead th {\n",
       "        text-align: right;\n",
       "    }\n",
       "</style>\n",
       "<table border=\"1\" class=\"dataframe\">\n",
       "  <thead>\n",
       "    <tr style=\"text-align: right;\">\n",
       "      <th></th>\n",
       "      <th>datetime_utc</th>\n",
       "      <th>me_power</th>\n",
       "      <th>sog</th>\n",
       "      <th>WEATHER IMPACT</th>\n",
       "      <th>me_rpm</th>\n",
       "      <th>DRAFT</th>\n",
       "      <th>me_consumption_kg_h</th>\n",
       "      <th>Cubed Speed</th>\n",
       "    </tr>\n",
       "  </thead>\n",
       "  <tbody>\n",
       "    <tr>\n",
       "      <th>1464955</th>\n",
       "      <td>2020-10-24 14:35:00</td>\n",
       "      <td>4281.429787</td>\n",
       "      <td>12.48370</td>\n",
       "      <td>-14.205186</td>\n",
       "      <td>74.21806</td>\n",
       "      <td>6.863775</td>\n",
       "      <td>798.51109</td>\n",
       "      <td>1945.494334</td>\n",
       "    </tr>\n",
       "    <tr>\n",
       "      <th>1464956</th>\n",
       "      <td>2020-10-24 14:40:00</td>\n",
       "      <td>4286.552339</td>\n",
       "      <td>12.12247</td>\n",
       "      <td>19.297306</td>\n",
       "      <td>74.19468</td>\n",
       "      <td>6.862345</td>\n",
       "      <td>777.48050</td>\n",
       "      <td>1781.448837</td>\n",
       "    </tr>\n",
       "    <tr>\n",
       "      <th>1464957</th>\n",
       "      <td>2020-10-24 14:45:00</td>\n",
       "      <td>4540.597465</td>\n",
       "      <td>12.50804</td>\n",
       "      <td>-26.878110</td>\n",
       "      <td>74.19620</td>\n",
       "      <td>6.880350</td>\n",
       "      <td>839.30207</td>\n",
       "      <td>1956.896175</td>\n",
       "    </tr>\n",
       "    <tr>\n",
       "      <th>1464958</th>\n",
       "      <td>2020-10-24 14:50:00</td>\n",
       "      <td>4487.777355</td>\n",
       "      <td>12.82564</td>\n",
       "      <td>-28.228749</td>\n",
       "      <td>74.18070</td>\n",
       "      <td>6.882760</td>\n",
       "      <td>829.08547</td>\n",
       "      <td>2109.779834</td>\n",
       "    </tr>\n",
       "    <tr>\n",
       "      <th>1464959</th>\n",
       "      <td>2020-10-24 14:55:00</td>\n",
       "      <td>4469.122789</td>\n",
       "      <td>13.01174</td>\n",
       "      <td>-24.184574</td>\n",
       "      <td>74.21461</td>\n",
       "      <td>6.880530</td>\n",
       "      <td>853.15188</td>\n",
       "      <td>2202.957557</td>\n",
       "    </tr>\n",
       "  </tbody>\n",
       "</table>\n",
       "</div>"
      ],
      "text/plain": [
       "                datetime_utc     me_power       sog  WEATHER IMPACT    me_rpm  \\\n",
       "1464955  2020-10-24 14:35:00  4281.429787  12.48370      -14.205186  74.21806   \n",
       "1464956  2020-10-24 14:40:00  4286.552339  12.12247       19.297306  74.19468   \n",
       "1464957  2020-10-24 14:45:00  4540.597465  12.50804      -26.878110  74.19620   \n",
       "1464958  2020-10-24 14:50:00  4487.777355  12.82564      -28.228749  74.18070   \n",
       "1464959  2020-10-24 14:55:00  4469.122789  13.01174      -24.184574  74.21461   \n",
       "\n",
       "            DRAFT  me_consumption_kg_h  Cubed Speed  \n",
       "1464955  6.863775            798.51109  1945.494334  \n",
       "1464956  6.862345            777.48050  1781.448837  \n",
       "1464957  6.880350            839.30207  1956.896175  \n",
       "1464958  6.882760            829.08547  2109.779834  \n",
       "1464959  6.880530            853.15188  2202.957557  "
      ]
     },
     "execution_count": 28,
     "metadata": {},
     "output_type": "execute_result"
    },
    {
     "name": "stdout",
     "output_type": "stream",
     "text": [
      "time: 16 ms (started: 2022-08-17 09:45:58 +05:30)\n"
     ]
    }
   ],
   "source": [
    "data.tail()"
   ]
  },
  {
   "cell_type": "code",
   "execution_count": 29,
   "id": "2d2ff8cb",
   "metadata": {},
   "outputs": [
    {
     "name": "stdout",
     "output_type": "stream",
     "text": [
      "time: 0 ns (started: 2022-08-17 09:46:03 +05:30)\n"
     ]
    }
   ],
   "source": [
    "# data.isnull().sum()"
   ]
  },
  {
   "cell_type": "markdown",
   "id": "1c0a169e",
   "metadata": {},
   "source": [
    "# Data for Model"
   ]
  },
  {
   "cell_type": "code",
   "execution_count": 30,
   "id": "36da451c",
   "metadata": {},
   "outputs": [
    {
     "name": "stdout",
     "output_type": "stream",
     "text": [
      "time: 0 ns (started: 2022-08-17 09:46:05 +05:30)\n"
     ]
    }
   ],
   "source": [
    "inputs = data[['WEATHER IMPACT', 'DRAFT', 'me_rpm', 'Cubed Speed', 'me_power']]\n",
    "target = data['me_consumption_kg_h']"
   ]
  },
  {
   "cell_type": "code",
   "execution_count": 31,
   "id": "cac9b905",
   "metadata": {},
   "outputs": [
    {
     "name": "stdout",
     "output_type": "stream",
     "text": [
      "time: 47 ms (started: 2022-08-17 09:46:06 +05:30)\n"
     ]
    }
   ],
   "source": [
    "from sklearn.model_selection import train_test_split\n",
    "X_train, X_test, y_train, y_test = train_test_split(inputs, target, test_size = 0.2, random_state= 25)"
   ]
  },
  {
   "cell_type": "markdown",
   "id": "c47066ed",
   "metadata": {},
   "source": [
    "# Linear Regression"
   ]
  },
  {
   "cell_type": "code",
   "execution_count": 32,
   "id": "039e7ee7",
   "metadata": {},
   "outputs": [
    {
     "data": {
      "text/plain": [
       "LinearRegression()"
      ]
     },
     "execution_count": 32,
     "metadata": {},
     "output_type": "execute_result"
    },
    {
     "name": "stdout",
     "output_type": "stream",
     "text": [
      "time: 46 ms (started: 2022-08-17 09:46:18 +05:30)\n"
     ]
    }
   ],
   "source": [
    "reg = linear_model.LinearRegression()\n",
    "reg.fit(X_train, y_train)"
   ]
  },
  {
   "cell_type": "markdown",
   "id": "e155780d",
   "metadata": {},
   "source": [
    "# Coefficient and Intercept of the Model"
   ]
  },
  {
   "cell_type": "code",
   "execution_count": 33,
   "id": "4ba74780",
   "metadata": {},
   "outputs": [
    {
     "data": {
      "text/plain": [
       "array([ 2.40177904e-01, -5.19464915e-01,  9.75366844e+00,  1.34628839e-03,\n",
       "        4.75819775e-02])"
      ]
     },
     "execution_count": 33,
     "metadata": {},
     "output_type": "execute_result"
    },
    {
     "name": "stdout",
     "output_type": "stream",
     "text": [
      "time: 0 ns (started: 2022-08-17 09:46:23 +05:30)\n"
     ]
    }
   ],
   "source": [
    "reg.coef_"
   ]
  },
  {
   "cell_type": "code",
   "execution_count": 34,
   "id": "3a840fcf",
   "metadata": {},
   "outputs": [
    {
     "data": {
      "text/plain": [
       "-171.2837195732733"
      ]
     },
     "execution_count": 34,
     "metadata": {},
     "output_type": "execute_result"
    },
    {
     "name": "stdout",
     "output_type": "stream",
     "text": [
      "time: 16 ms (started: 2022-08-17 09:46:30 +05:30)\n"
     ]
    }
   ],
   "source": [
    "reg.intercept_"
   ]
  },
  {
   "cell_type": "code",
   "execution_count": 35,
   "id": "f2aaa03b",
   "metadata": {},
   "outputs": [
    {
     "name": "stdout",
     "output_type": "stream",
     "text": [
      "time: 16 ms (started: 2022-08-17 09:46:31 +05:30)\n"
     ]
    }
   ],
   "source": [
    "linear_reg = reg.score(X_test, y_test)"
   ]
  },
  {
   "cell_type": "markdown",
   "id": "d5e4a13f",
   "metadata": {},
   "source": [
    "# Score of th Model"
   ]
  },
  {
   "cell_type": "code",
   "execution_count": 36,
   "id": "3d7d0788",
   "metadata": {},
   "outputs": [
    {
     "data": {
      "text/plain": [
       "0.45281106385469216"
      ]
     },
     "execution_count": 36,
     "metadata": {},
     "output_type": "execute_result"
    },
    {
     "name": "stdout",
     "output_type": "stream",
     "text": [
      "time: 0 ns (started: 2022-08-17 09:46:37 +05:30)\n"
     ]
    }
   ],
   "source": [
    "linear_reg"
   ]
  },
  {
   "cell_type": "markdown",
   "id": "4368a2d9",
   "metadata": {},
   "source": [
    "# R2 of the Model"
   ]
  },
  {
   "cell_type": "code",
   "execution_count": 37,
   "id": "2ba94e21",
   "metadata": {},
   "outputs": [
    {
     "name": "stdout",
     "output_type": "stream",
     "text": [
      "time: 0 ns (started: 2022-08-17 09:46:47 +05:30)\n"
     ]
    }
   ],
   "source": [
    "# df.columns.to_list()"
   ]
  },
  {
   "cell_type": "code",
   "execution_count": 38,
   "id": "f544944a",
   "metadata": {},
   "outputs": [
    {
     "name": "stdout",
     "output_type": "stream",
     "text": [
      "time: 0 ns (started: 2022-08-17 09:46:49 +05:30)\n"
     ]
    }
   ],
   "source": [
    "y = data['me_consumption_kg_h']"
   ]
  },
  {
   "cell_type": "code",
   "execution_count": 39,
   "id": "3e6f8b8f",
   "metadata": {},
   "outputs": [
    {
     "name": "stdout",
     "output_type": "stream",
     "text": [
      "time: 15 ms (started: 2022-08-17 09:47:00 +05:30)\n"
     ]
    }
   ],
   "source": [
    "y_pred = reg.predict(data[['WEATHER IMPACT', 'DRAFT', 'me_rpm', 'Cubed Speed', 'me_power']])"
   ]
  },
  {
   "cell_type": "code",
   "execution_count": 40,
   "id": "4cb6ddc2",
   "metadata": {},
   "outputs": [
    {
     "data": {
      "text/plain": [
       "0.44252296283520964"
      ]
     },
     "execution_count": 40,
     "metadata": {},
     "output_type": "execute_result"
    },
    {
     "name": "stdout",
     "output_type": "stream",
     "text": [
      "time: 15 ms (started: 2022-08-17 09:47:02 +05:30)\n"
     ]
    }
   ],
   "source": [
    "r2_score(y, y_pred)"
   ]
  },
  {
   "cell_type": "markdown",
   "id": "a649f67d",
   "metadata": {},
   "source": [
    "# Residuals"
   ]
  },
  {
   "cell_type": "code",
   "execution_count": 41,
   "id": "7d1d07f9",
   "metadata": {},
   "outputs": [
    {
     "data": {
      "text/plain": [
       "count    270512.000000\n",
       "mean        700.576065\n",
       "std         220.276294\n",
       "min           0.000600\n",
       "25%         612.899913\n",
       "50%         708.431402\n",
       "75%         778.424290\n",
       "max        2356.691754\n",
       "Name: me_consumption_kg_h, dtype: float64"
      ]
     },
     "execution_count": 41,
     "metadata": {},
     "output_type": "execute_result"
    },
    {
     "name": "stdout",
     "output_type": "stream",
     "text": [
      "time: 16 ms (started: 2022-08-17 09:47:03 +05:30)\n"
     ]
    }
   ],
   "source": [
    "y.describe()"
   ]
  },
  {
   "cell_type": "code",
   "execution_count": 42,
   "id": "5bdbf35f",
   "metadata": {},
   "outputs": [
    {
     "data": {
      "text/plain": [
       "0.12490459634298164"
      ]
     },
     "execution_count": 42,
     "metadata": {},
     "output_type": "execute_result"
    },
    {
     "name": "stdout",
     "output_type": "stream",
     "text": [
      "time: 0 ns (started: 2022-08-17 09:47:04 +05:30)\n"
     ]
    }
   ],
   "source": [
    "residuals = y_pred - y\n",
    "residuals.mean()"
   ]
  },
  {
   "cell_type": "markdown",
   "id": "95b676a0",
   "metadata": {},
   "source": [
    "# Random Forest Regression"
   ]
  },
  {
   "cell_type": "code",
   "execution_count": 43,
   "id": "f48205c0",
   "metadata": {},
   "outputs": [
    {
     "data": {
      "text/plain": [
       "0.9001029363479033"
      ]
     },
     "execution_count": 43,
     "metadata": {},
     "output_type": "execute_result"
    },
    {
     "name": "stdout",
     "output_type": "stream",
     "text": [
      "time: 1min 17s (started: 2022-08-17 09:55:02 +05:30)\n"
     ]
    }
   ],
   "source": [
    "# import the regressor\n",
    "from sklearn.ensemble import RandomForestRegressor\n",
    " \n",
    "# create regressor object\n",
    "rfr = RandomForestRegressor(n_estimators = 50, random_state = 0)\n",
    " \n",
    "# fit the regressor with x and y data\n",
    "rfr.fit(X_train, y_train) \n",
    "\n",
    "# Check the score of the prediction\n",
    "rfr.score(X_test, y_test)\n",
    "\n",
    "# # Make predictions for the test set\n",
    "# y_pred_test = regressor.predict(X_test)   \n",
    "# y_pred_test"
   ]
  },
  {
   "cell_type": "markdown",
   "id": "c77b101c",
   "metadata": {},
   "source": [
    "# Score of the 2nd Model"
   ]
  },
  {
   "cell_type": "code",
   "execution_count": 44,
   "id": "b569ef86",
   "metadata": {},
   "outputs": [
    {
     "data": {
      "text/plain": [
       "0.9690082568794158"
      ]
     },
     "execution_count": 44,
     "metadata": {},
     "output_type": "execute_result"
    },
    {
     "name": "stdout",
     "output_type": "stream",
     "text": [
      "time: 3.11 s (started: 2022-08-17 09:59:23 +05:30)\n"
     ]
    }
   ],
   "source": [
    "actual = data['me_consumption_kg_h']\n",
    "predicted = rfr.predict(data[['WEATHER IMPACT','DRAFT','me_rpm','Cubed Speed', 'me_power']])\n",
    "r2_score(actual, predicted)"
   ]
  },
  {
   "cell_type": "code",
   "execution_count": 45,
   "id": "dc13eabf",
   "metadata": {},
   "outputs": [
    {
     "data": {
      "text/plain": [
       "count    270512.000000\n",
       "mean         -0.447325\n",
       "std          38.775898\n",
       "min       -1028.554668\n",
       "25%          -6.198589\n",
       "50%          -1.340427\n",
       "75%           1.782462\n",
       "max        1190.020947\n",
       "Name: me_consumption_kg_h, dtype: float64"
      ]
     },
     "execution_count": 45,
     "metadata": {},
     "output_type": "execute_result"
    },
    {
     "name": "stdout",
     "output_type": "stream",
     "text": [
      "time: 16 ms (started: 2022-08-17 09:59:28 +05:30)\n"
     ]
    }
   ],
   "source": [
    "residuals_rfr = actual - predicted\n",
    "residuals_rfr.describe()"
   ]
  },
  {
   "cell_type": "markdown",
   "id": "43d7e8e1",
   "metadata": {},
   "source": [
    "# Test case:\n",
    "    Voyage of STI Duchessa:\n",
    "        30th Dec 2021 - 14th Jan 2022"
   ]
  },
  {
   "cell_type": "code",
   "execution_count": 46,
   "id": "d1d808a4",
   "metadata": {},
   "outputs": [
    {
     "name": "stdout",
     "output_type": "stream",
     "text": [
      "time: 3.66 s (started: 2022-08-17 09:59:42 +05:30)\n"
     ]
    }
   ],
   "source": [
    "test = pd.read_excel('TEST.xlsx', sheet_name = 'TEST')"
   ]
  },
  {
   "cell_type": "code",
   "execution_count": 47,
   "id": "5e4d4f80",
   "metadata": {
    "scrolled": true
   },
   "outputs": [
    {
     "data": {
      "text/plain": [
       "['Sample time',\n",
       " 'SOG',\n",
       " 'HEADING(degree)',\n",
       " 'ME RPM(RPM)',\n",
       " 'Fore Draft',\n",
       " 'Aft Draft',\n",
       " 'WIND ANGLE(degree)',\n",
       " 'WIND SPEED(m/h)',\n",
       " 'Shaft Power',\n",
       " 'ME and GE Total flow',\n",
       " 'GE Inlet Flow',\n",
       " 'GE Outlet Flow',\n",
       " 'me_consumptions']"
      ]
     },
     "execution_count": 47,
     "metadata": {},
     "output_type": "execute_result"
    },
    {
     "name": "stdout",
     "output_type": "stream",
     "text": [
      "time: 16 ms (started: 2022-08-17 09:59:51 +05:30)\n"
     ]
    }
   ],
   "source": [
    "test.columns.to_list()"
   ]
  },
  {
   "cell_type": "code",
   "execution_count": 48,
   "id": "78bb129c",
   "metadata": {},
   "outputs": [
    {
     "name": "stdout",
     "output_type": "stream",
     "text": [
      "time: 0 ns (started: 2022-08-17 10:00:36 +05:30)\n"
     ]
    }
   ],
   "source": [
    "test = test.loc[test['me_consumptions'] > 0 ]"
   ]
  },
  {
   "cell_type": "code",
   "execution_count": 49,
   "id": "915c4f45",
   "metadata": {},
   "outputs": [
    {
     "name": "stdout",
     "output_type": "stream",
     "text": [
      "time: 16 ms (started: 2022-08-17 10:00:37 +05:30)\n"
     ]
    }
   ],
   "source": [
    "test = test.loc[test['Shaft Power'] > 0 ]"
   ]
  },
  {
   "cell_type": "code",
   "execution_count": 50,
   "id": "90b6e1eb",
   "metadata": {},
   "outputs": [
    {
     "name": "stdout",
     "output_type": "stream",
     "text": [
      "time: 16 ms (started: 2022-08-17 10:00:41 +05:30)\n"
     ]
    }
   ],
   "source": [
    "# Heading to rad\n",
    "\n",
    "test['HEADING RAD'] = test['HEADING(degree)'].astype(float).apply(math.radians)"
   ]
  },
  {
   "cell_type": "code",
   "execution_count": 51,
   "id": "e5d4e1c7",
   "metadata": {},
   "outputs": [
    {
     "name": "stdout",
     "output_type": "stream",
     "text": [
      "time: 0 ns (started: 2022-08-17 10:00:42 +05:30)\n"
     ]
    }
   ],
   "source": [
    "# Rad Heading to Cos\n",
    "\n",
    "test['COS HEADING RAD'] = test['HEADING RAD'].astype(float).apply(math.cos)           # OUTPUT 1"
   ]
  },
  {
   "cell_type": "code",
   "execution_count": 52,
   "id": "7e6081d4",
   "metadata": {},
   "outputs": [
    {
     "name": "stdout",
     "output_type": "stream",
     "text": [
      "time: 0 ns (started: 2022-08-17 10:00:43 +05:30)\n"
     ]
    }
   ],
   "source": [
    "# Rad Heading to Cos\n",
    "\n",
    "test['SIN HEADING RAD'] = test['HEADING RAD'].astype(float).apply(math.sin)           # OUTPUT 2"
   ]
  },
  {
   "cell_type": "code",
   "execution_count": 53,
   "id": "01e5603c",
   "metadata": {},
   "outputs": [
    {
     "name": "stdout",
     "output_type": "stream",
     "text": [
      "time: 0 ns (started: 2022-08-17 10:00:45 +05:30)\n"
     ]
    }
   ],
   "source": [
    "# Wind angle to Rad\n",
    "\n",
    "test['WIND ANGLE RAD'] = test['WIND ANGLE(degree)'].astype(float).apply(math.radians)                         "
   ]
  },
  {
   "cell_type": "code",
   "execution_count": 54,
   "id": "f6ed18f2",
   "metadata": {},
   "outputs": [
    {
     "name": "stdout",
     "output_type": "stream",
     "text": [
      "time: 0 ns (started: 2022-08-17 10:00:47 +05:30)\n"
     ]
    }
   ],
   "source": [
    "# Rad Wind Angle to Cos\n",
    "\n",
    "test['COS WIND ANGLE RAD'] = test['WIND ANGLE RAD'].astype(float).apply(math.cos)     # OUTPUT 3"
   ]
  },
  {
   "cell_type": "code",
   "execution_count": 55,
   "id": "449b099e",
   "metadata": {},
   "outputs": [
    {
     "name": "stdout",
     "output_type": "stream",
     "text": [
      "time: 16 ms (started: 2022-08-17 10:00:48 +05:30)\n"
     ]
    }
   ],
   "source": [
    "# Rad Wind Angle to Cos\n",
    "\n",
    "test['SIN WIND ANGLE RAD'] = test['WIND ANGLE RAD'].astype(float).apply(math.sin)     # OUTPUT 4"
   ]
  },
  {
   "cell_type": "code",
   "execution_count": 56,
   "id": "adf7a6bb",
   "metadata": {},
   "outputs": [
    {
     "name": "stdout",
     "output_type": "stream",
     "text": [
      "time: 0 ns (started: 2022-08-17 10:00:50 +05:30)\n"
     ]
    }
   ],
   "source": [
    "test['IMPACT'] = (test['COS WIND ANGLE RAD'] * test['COS HEADING RAD']) + (test['SIN WIND ANGLE RAD'] * test['SIN HEADING RAD'])"
   ]
  },
  {
   "cell_type": "code",
   "execution_count": 57,
   "id": "ee8ebb26",
   "metadata": {},
   "outputs": [
    {
     "data": {
      "text/plain": [
       "count    4097.000000\n",
       "mean       -0.526227\n",
       "std         0.522702\n",
       "min        -1.000000\n",
       "25%        -0.912768\n",
       "50%        -0.693461\n",
       "75%        -0.378225\n",
       "max         0.999997\n",
       "Name: IMPACT, dtype: float64"
      ]
     },
     "execution_count": 57,
     "metadata": {},
     "output_type": "execute_result"
    },
    {
     "name": "stdout",
     "output_type": "stream",
     "text": [
      "time: 0 ns (started: 2022-08-17 10:00:51 +05:30)\n"
     ]
    }
   ],
   "source": [
    "test['IMPACT'].describe()              "
   ]
  },
  {
   "cell_type": "code",
   "execution_count": 58,
   "id": "1178c8e1",
   "metadata": {},
   "outputs": [
    {
     "name": "stdout",
     "output_type": "stream",
     "text": [
      "time: 0 ns (started: 2022-08-17 10:00:53 +05:30)\n"
     ]
    }
   ],
   "source": [
    "test['WEATHER IMPACT'] = test['WIND SPEED(m/h)'] * test['IMPACT']"
   ]
  },
  {
   "cell_type": "code",
   "execution_count": 59,
   "id": "ea97fa50",
   "metadata": {},
   "outputs": [
    {
     "data": {
      "text/plain": [
       "count    4097.000000\n",
       "mean      -10.895108\n",
       "std        10.805378\n",
       "min       -38.149990\n",
       "25%       -18.569813\n",
       "50%        -9.314007\n",
       "75%        -3.851534\n",
       "max        36.268354\n",
       "Name: WEATHER IMPACT, dtype: float64"
      ]
     },
     "execution_count": 59,
     "metadata": {},
     "output_type": "execute_result"
    },
    {
     "name": "stdout",
     "output_type": "stream",
     "text": [
      "time: 0 ns (started: 2022-08-17 10:00:53 +05:30)\n"
     ]
    }
   ],
   "source": [
    "test['WEATHER IMPACT'].describe()"
   ]
  },
  {
   "cell_type": "code",
   "execution_count": 60,
   "id": "2d1c500f",
   "metadata": {},
   "outputs": [
    {
     "name": "stdout",
     "output_type": "stream",
     "text": [
      "time: 0 ns (started: 2022-08-17 10:00:53 +05:30)\n"
     ]
    }
   ],
   "source": [
    "test['DRAFT'] = test[['Aft Draft', 'Fore Draft']].mean(axis=1)"
   ]
  },
  {
   "cell_type": "code",
   "execution_count": 61,
   "id": "ad43a635",
   "metadata": {},
   "outputs": [
    {
     "name": "stdout",
     "output_type": "stream",
     "text": [
      "time: 0 ns (started: 2022-08-17 10:00:55 +05:30)\n"
     ]
    }
   ],
   "source": [
    "test = test.loc[test['DRAFT'] > 5 ]  "
   ]
  },
  {
   "cell_type": "code",
   "execution_count": 62,
   "id": "dbd57767",
   "metadata": {},
   "outputs": [
    {
     "name": "stdout",
     "output_type": "stream",
     "text": [
      "time: 0 ns (started: 2022-08-17 10:00:55 +05:30)\n"
     ]
    }
   ],
   "source": [
    "test['Cubed Speed'] = (test['SOG'])**3"
   ]
  },
  {
   "cell_type": "markdown",
   "id": "0f0293f6",
   "metadata": {},
   "source": [
    "# Feeing test data to Linear Regression Model "
   ]
  },
  {
   "cell_type": "code",
   "execution_count": 63,
   "id": "95e969fc",
   "metadata": {},
   "outputs": [
    {
     "name": "stdout",
     "output_type": "stream",
     "text": [
      "time: 0 ns (started: 2022-08-17 10:01:22 +05:30)\n"
     ]
    }
   ],
   "source": [
    "test_pred = reg.predict(test[['WEATHER IMPACT', 'DRAFT', 'ME RPM(RPM)', 'Cubed Speed', 'Shaft Power']])"
   ]
  },
  {
   "cell_type": "code",
   "execution_count": 64,
   "id": "60c135fb",
   "metadata": {},
   "outputs": [
    {
     "name": "stdout",
     "output_type": "stream",
     "text": [
      "time: 0 ns (started: 2022-08-17 10:01:30 +05:30)\n"
     ]
    }
   ],
   "source": [
    "test['Predicted Fuel'] = test_pred"
   ]
  },
  {
   "cell_type": "code",
   "execution_count": 65,
   "id": "7327af81",
   "metadata": {},
   "outputs": [
    {
     "name": "stdout",
     "output_type": "stream",
     "text": [
      "time: 0 ns (started: 2022-08-17 10:01:31 +05:30)\n"
     ]
    }
   ],
   "source": [
    "test_actual = test['me_consumptions']"
   ]
  },
  {
   "cell_type": "code",
   "execution_count": 66,
   "id": "b298df5d",
   "metadata": {},
   "outputs": [
    {
     "name": "stdout",
     "output_type": "stream",
     "text": [
      "time: 0 ns (started: 2022-08-17 10:01:33 +05:30)\n"
     ]
    }
   ],
   "source": [
    "test['residuals'] = ((test['me_consumptions'] - test['Predicted Fuel'])/test['Predicted Fuel']) * 100"
   ]
  },
  {
   "cell_type": "code",
   "execution_count": null,
   "id": "15ef6a2f",
   "metadata": {},
   "outputs": [],
   "source": [
    "# r2_score(test_actual, test_pred)"
   ]
  },
  {
   "cell_type": "code",
   "execution_count": 67,
   "id": "4aa625d8",
   "metadata": {},
   "outputs": [
    {
     "data": {
      "text/plain": [
       "count    270512.000000\n",
       "mean          0.124905\n",
       "std         164.467893\n",
       "min       -1722.307811\n",
       "25%         -25.381319\n",
       "50%          21.313628\n",
       "75%          65.753586\n",
       "max         638.697567\n",
       "Name: me_consumption_kg_h, dtype: float64"
      ]
     },
     "execution_count": 67,
     "metadata": {},
     "output_type": "execute_result"
    },
    {
     "name": "stdout",
     "output_type": "stream",
     "text": [
      "time: 16 ms (started: 2022-08-17 10:01:36 +05:30)\n"
     ]
    }
   ],
   "source": [
    "residuals.describe()                    # The mean residual is observed for deviation values"
   ]
  },
  {
   "cell_type": "code",
   "execution_count": 88,
   "id": "37baad71",
   "metadata": {},
   "outputs": [
    {
     "data": {
      "image/png": "[encoded data removed]",
      "text/plain": [
       "<Figure size 432x288 with 1 Axes>"
      ]
     },
     "metadata": {
      "needs_background": "light"
     },
     "output_type": "display_data"
    },
    {
     "name": "stdout",
     "output_type": "stream",
     "text": [
      "time: 156 ms (started: 2022-08-17 10:17:25 +05:30)\n"
     ]
    }
   ],
   "source": [
    "import matplotlib.pyplot as plt\n",
    "# line 1 points\n",
    "\n",
    "a1 = test['residuals']\n",
    "# plotting the line 1 points \n",
    "plt.hist(a1, label = \"Residual\")\n",
    "\n",
    "plt.xlabel('')\n",
    "# Set the y axis label of the current axis.\n",
    "plt.ylabel('Residual')\n",
    "# Set a title of the current axes.\n",
    "plt.title('Residual Plot')\n",
    "# show a legend on the plot\n",
    "plt.legend()\n",
    "# Display a figure.\n",
    "plt.show()"
   ]
  },
  {
   "cell_type": "code",
   "execution_count": null,
   "id": "0c815c3d",
   "metadata": {},
   "outputs": [],
   "source": []
  },
  {
   "cell_type": "code",
   "execution_count": null,
   "id": "bcf39fdb",
   "metadata": {},
   "outputs": [],
   "source": [
    "# test.head()"
   ]
  },
  {
   "cell_type": "code",
   "execution_count": null,
   "id": "4b5e15b9",
   "metadata": {},
   "outputs": [],
   "source": [
    "# test.to_excel(r'C:\\Users\\addsouza\\Documents\\Test_Fuel_Kong.xlsx', index = False)        # Export the data set"
   ]
  },
  {
   "cell_type": "markdown",
   "id": "5f59d78a",
   "metadata": {},
   "source": [
    "# Feeding test data to Random Forest Regression Model"
   ]
  },
  {
   "cell_type": "code",
   "execution_count": 69,
   "id": "a66b111a",
   "metadata": {},
   "outputs": [
    {
     "name": "stdout",
     "output_type": "stream",
     "text": [
      "time: 63 ms (started: 2022-08-17 10:05:33 +05:30)\n"
     ]
    }
   ],
   "source": [
    "test_pred = rfr.predict(test[['WEATHER IMPACT', 'DRAFT', 'ME RPM(RPM)', 'Cubed Speed', 'Shaft Power']])"
   ]
  },
  {
   "cell_type": "code",
   "execution_count": 70,
   "id": "f98c6521",
   "metadata": {},
   "outputs": [
    {
     "name": "stdout",
     "output_type": "stream",
     "text": [
      "time: 0 ns (started: 2022-08-17 10:05:47 +05:30)\n"
     ]
    }
   ],
   "source": [
    "test['Predicted Fuel'] = test_pred"
   ]
  },
  {
   "cell_type": "code",
   "execution_count": 71,
   "id": "a127d777",
   "metadata": {},
   "outputs": [
    {
     "name": "stdout",
     "output_type": "stream",
     "text": [
      "time: 0 ns (started: 2022-08-17 10:05:53 +05:30)\n"
     ]
    }
   ],
   "source": [
    "test_actual = test['me_consumptions']"
   ]
  },
  {
   "cell_type": "code",
   "execution_count": 72,
   "id": "091ea296",
   "metadata": {},
   "outputs": [
    {
     "name": "stdout",
     "output_type": "stream",
     "text": [
      "time: 0 ns (started: 2022-08-17 10:06:10 +05:30)\n"
     ]
    }
   ],
   "source": [
    "test['residuals_rfr'] = ((test['me_consumptions'] - test['Predicted Fuel'])/test['Predicted Fuel']) * 100"
   ]
  },
  {
   "cell_type": "code",
   "execution_count": 73,
   "id": "f5e79f7d",
   "metadata": {},
   "outputs": [
    {
     "data": {
      "text/plain": [
       "count    270512.000000\n",
       "mean         -0.447325\n",
       "std          38.775898\n",
       "min       -1028.554668\n",
       "25%          -6.198589\n",
       "50%          -1.340427\n",
       "75%           1.782462\n",
       "max        1190.020947\n",
       "Name: me_consumption_kg_h, dtype: float64"
      ]
     },
     "execution_count": 73,
     "metadata": {},
     "output_type": "execute_result"
    },
    {
     "name": "stdout",
     "output_type": "stream",
     "text": [
      "time: 16 ms (started: 2022-08-17 10:06:24 +05:30)\n"
     ]
    }
   ],
   "source": [
    "residuals_rfr.describe()    "
   ]
  },
  {
   "cell_type": "code",
   "execution_count": 82,
   "id": "2732ffdf",
   "metadata": {},
   "outputs": [
    {
     "data": {
      "image/png": "[encoded data removed]",
      "text/plain": [
       "<Figure size 432x288 with 1 Axes>"
      ]
     },
     "metadata": {
      "needs_background": "light"
     },
     "output_type": "display_data"
    },
    {
     "name": "stdout",
     "output_type": "stream",
     "text": [
      "time: 172 ms (started: 2022-08-17 10:14:04 +05:30)\n"
     ]
    }
   ],
   "source": [
    "import matplotlib.pyplot as plt\n",
    "# line 1 points\n",
    "x1 = test['Sample time'].iloc[50:100]\n",
    "y1 = test['me_consumptions'].iloc[50:100]\n",
    "# plotting the line 1 points \n",
    "plt.plot(x1, y1, label = \"Actual\")\n",
    "# line 2 points\n",
    "x2 = test['Sample time'].iloc[50:60]\n",
    "y2 = test['Predicted Fuel'].iloc[50:60]\n",
    "# plotting the line 2 points \n",
    "plt.plot(x2, y2, label = \"Predicted\")\n",
    "plt.xlabel('Date')\n",
    "# Set the y axis label of the current axis.\n",
    "plt.ylabel('Fuel')\n",
    "# Set a title of the current axes.\n",
    "plt.title('Actual vs Predicted ')\n",
    "# show a legend on the plot\n",
    "plt.legend()\n",
    "# Display a figure.\n",
    "plt.show()"
   ]
  },
  {
   "cell_type": "code",
   "execution_count": 87,
   "id": "262378cd",
   "metadata": {},
   "outputs": [
    {
     "data": {
      "image/png": "[encoded data removed]",
      "text/plain": [
       "<Figure size 432x288 with 1 Axes>"
      ]
     },
     "metadata": {
      "needs_background": "light"
     },
     "output_type": "display_data"
    },
    {
     "name": "stdout",
     "output_type": "stream",
     "text": [
      "time: 141 ms (started: 2022-08-17 10:16:41 +05:30)\n"
     ]
    }
   ],
   "source": [
    "import matplotlib.pyplot as plt\n",
    "# line 1 points\n",
    "\n",
    "b1 = test['residuals_rfr']\n",
    "# plotting the line 1 points \n",
    "plt.hist(b1, label = \"Residual\")\n",
    "\n",
    "plt.xlabel('')\n",
    "# Set the y axis label of the current axis.\n",
    "plt.ylabel('Residual')\n",
    "# Set a title of the current axes.\n",
    "plt.title('Residual Plot')\n",
    "# show a legend on the plot\n",
    "plt.legend()\n",
    "# Display a figure.\n",
    "plt.show()"
   ]
  }
 ],
 "metadata": {
  "kernelspec": {
   "display_name": "Python 3 (ipykernel)",
   "language": "python",
   "name": "python3"
  },
  "language_info": {
   "codemirror_mode": {
    "name": "ipython",
    "version": 3
   },
   "file_extension": ".py",
   "mimetype": "text/x-python",
   "name": "python",
   "nbconvert_exporter": "python",
   "pygments_lexer": "ipython3",
   "version": "3.9.7"
  }
 },
 "nbformat": 4,
 "nbformat_minor": 5
}
